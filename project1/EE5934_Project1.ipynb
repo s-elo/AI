{
  "cells": [
    {
      "cell_type": "markdown",
      "metadata": {
        "id": "y2osEUslUGkv"
      },
      "source": [
        "# EE5934 Deep Learning Project 1\n",
        "\n",
        "In this project, you are going to explore Deep Learning and Neural Networks by completing the following three tasks:\n",
        "\n",
        "* Task 1. Network Exploration (30%)\n",
        "* Task 2. Model Interpretation (30%)\n",
        "* Task 3. Adversarial Attack (40%)\n",
        "\n",
        "Before doing the project, please read the instructions carefully (failure to do so will be penalized):\n",
        "\n",
        "1. Implement your codes **within** \"TODO\" and \"END OF YOUR CODE\", do **NOT** modify any codes outside the answer area;\n",
        "2. Make sure your codes **clean**, **easily readable** (add meaningful comments if needed), and **runnable**;\n",
        "3. Write your answers in the given markdown cells, keep your answers clear and concise;\n",
        "4. Do submit your project to \"Files/Project 1/Submissions\" on [LumiNUS](https://luminus.nus.edu.sg/) before the deadline: **5:59 pm (SGT), 6 March, 2022**;\n",
        "5. This is an individual project, do **NOT** share your solutions with others, we have zero tolerance for cheating.\n",
        "\n",
        "If you have any questions regarding this project, please feel free to contact Wu Zhangjie (zhangjiewu@u.nus.edu). "
      ]
    },
    {
      "cell_type": "markdown",
      "metadata": {
        "id": "XyJICDR5tkuj"
      },
      "source": [
        "## Preparation"
      ]
    },
    {
      "cell_type": "markdown",
      "metadata": {
        "id": "6l6-TCcGM0GA"
      },
      "source": [
        "### Loading packages\n",
        "\n",
        "Please install the packages listed below if you haven't done so. To avoid unnecessary trouble while reproducing your code, please install the required [PyTorch](https://pytorch.org/) version."
      ]
    },
    {
      "cell_type": "code",
      "execution_count": 1,
      "metadata": {
        "colab": {
          "base_uri": "https://localhost:8080/"
        },
        "id": "LNFcTvFWg1L1",
        "outputId": "d8dd6af1-e630-4b3d-ff37-fb63cdb209b8"
      },
      "outputs": [
        {
          "name": "stdout",
          "output_type": "stream",
          "text": [
            "1.9.0+cu111\n"
          ]
        }
      ],
      "source": [
        "import os\n",
        "import time\n",
        "import copy\n",
        "import numpy as np\n",
        "import matplotlib.pyplot as plt\n",
        "\n",
        "import matplotlib.cm as mpl_color_map\n",
        "from PIL import Image\n",
        "from random import randint\n",
        "\n",
        "import torch\n",
        "import torch.nn.functional as F\n",
        "import torch.optim as optim\n",
        "import torchvision\n",
        "\n",
        "print(torch.__version__)\n",
        "assert (torch.__version__ == '1.9.0+cu111' or torch.__version__ ==\n",
        "        '1.9.0') or (torch.__version__ =='1.9.0+cpu'), 'Please reinstall pytorch to 1.9.0.'\n",
        "assert (torchvision.__version__ == '0.10.0+cu111' or torchvision.__version__ ==\n",
        "        '0.10.0' or (torchvision.__version__ =='0.10.0+cpu')), 'Please reinstall torchvision to 0.10.0.'\n"
      ]
    },
    {
      "cell_type": "markdown",
      "metadata": {
        "id": "Owj6jKvWraFJ"
      },
      "source": [
        "### Checking the Running Device\n",
        "\n",
        "It is recommended to run this notebook on GPUs since that would be a much faster way to train and evaluate the model. If you have difficulties accessing GPUs with your machine, you can choose to use the free GPUs provided by [Google Colab](https://colab.research.google.com/)."
      ]
    },
    {
      "cell_type": "code",
      "execution_count": 2,
      "metadata": {
        "colab": {
          "base_uri": "https://localhost:8080/"
        },
        "id": "CLovzR7Lk49o",
        "outputId": "3ee68849-0255-4a25-e7b4-bd0046455637"
      },
      "outputs": [
        {
          "name": "stdout",
          "output_type": "stream",
          "text": [
            "cuda:0\n"
          ]
        }
      ],
      "source": [
        "if torch.cuda.is_available():\n",
        "  device = 'cuda:0'\n",
        "else:\n",
        "  device = 'cpu'\n",
        "print(device)"
      ]
    },
    {
      "cell_type": "markdown",
      "metadata": {
        "id": "Fb12tK49rDia"
      },
      "source": [
        "### Getting the CIFAR-10 Dataset"
      ]
    },
    {
      "cell_type": "code",
      "execution_count": 3,
      "metadata": {
        "id": "EIT2XbCfp2iv"
      },
      "outputs": [
        {
          "name": "stdout",
          "output_type": "stream",
          "text": [
            "Files already downloaded and verified\n",
            "Files already downloaded and verified\n"
          ]
        }
      ],
      "source": [
        "CIFAR_CLASSES = ['Airplane', 'Automobile', 'Bird', 'Cat', 'Deer', 'Dog', 'Frog', 'Horse', 'Ship', 'Truck']\n",
        "CIFAR_MEAN, CIFAR_STD = np.array([0.4914, 0.4822, 0.4465]), np.array([0.247, 0.243, 0.261])\n",
        "\n",
        "# Convert image to pytroch tensor and normalize\n",
        "transform = torchvision.transforms.Compose([\n",
        "    torchvision.transforms.ToTensor(),\n",
        "    torchvision.transforms.Normalize(mean=CIFAR_MEAN.tolist(), std=CIFAR_STD.tolist())\n",
        "])\n",
        "\n",
        "# Inverse operation to regain original image\n",
        "inverse_transform = torchvision.transforms.Compose([ \n",
        "    torchvision.transforms.Normalize(mean=[0, 0, 0], std=(1 / CIFAR_STD).tolist()),\n",
        "    torchvision.transforms.Normalize(mean=(-CIFAR_MEAN).tolist(), std=[1, 1, 1]),\n",
        "    torchvision.transforms.ToPILImage()\n",
        "])\n",
        "\n",
        "# Load dataset\n",
        "train_set = torchvision.datasets.CIFAR10(root=\"data\", train=True, download=True, transform=transform)\n",
        "train_size = len(train_set)\n",
        "test_set = torchvision.datasets.CIFAR10(root=\"data\", train=False, download=True, transform=transform)\n",
        "test_size = len(test_set)"
      ]
    },
    {
      "cell_type": "markdown",
      "metadata": {
        "id": "m46wzHYRM0GF"
      },
      "source": [
        "### Helper Fuctions"
      ]
    },
    {
      "cell_type": "code",
      "execution_count": 4,
      "metadata": {
        "id": "U9imGmJ6M0GG"
      },
      "outputs": [],
      "source": [
        "def show_prob_cifar(image, label, p):\n",
        "    \"\"\"\n",
        "        Show image and prediction probability for CIFAR-10 dataset.\n",
        "    Args:\n",
        "    Inputs\n",
        "        image (Tensor): Input image\n",
        "        label (int): The ground truth label of input image\n",
        "        p (Tensor): Class probability of input image\n",
        "    \n",
        "    \"\"\"\n",
        "\n",
        "    ft = 10\n",
        "    width = 0.9\n",
        "    col = 'blue'\n",
        "\n",
        "    p=p.cpu().data.squeeze().numpy()\n",
        "    y_pos = np.arange(len(p))\n",
        "    fig = plt.figure(figsize=(5, 5))\n",
        "\n",
        "    # Plot image\n",
        "    ax1 = plt.subplot(2, 1, 1)\n",
        "    ax1.imshow(image)\n",
        "    ax1.set_axis_off()\n",
        "    ax1.set_title('Ground Truth: ' + CIFAR_CLASSES[label])\n",
        "\n",
        "    # Plot probability\n",
        "    ax2 = plt.subplot(2, 1, 2)\n",
        "    ax2.barh(y_pos, p*0.1, width , align='center', color=col)\n",
        "    ax2.set_yticks(y_pos)\n",
        "    ax2.set_yticklabels(CIFAR_CLASSES, fontsize=ft)\n",
        "    ax2.invert_yaxis()  \n",
        "    ax2.set_xticklabels([])\n",
        "    ax2.set_xticks([])\n",
        "    ax2.spines['right'].set_visible(False)\n",
        "    ax2.spines['top'].set_visible(False)\n",
        "    ax2.spines['bottom'].set_visible(False)\n",
        "    ax2.spines['left'].set_linewidth(4)\n",
        "    for i in range(len(p)):\n",
        "        str_nb=\"{0:.2f}\".format(p[i])\n",
        "        ax2.text(p[i]*0.1 + 0.001, y_pos[i] ,str_nb ,\n",
        "                 horizontalalignment='left', verticalalignment='center',\n",
        "                 transform=ax2.transData, color= col,fontsize=ft)\n",
        "\n",
        "    plt.show()\n",
        "\n",
        "\n",
        "def apply_colormap_on_image(org_im, activation, colormap_name):\n",
        "    \"\"\"\n",
        "        Apply heatmap on image\n",
        "    Args:\n",
        "        org_img (PIL img): Original image\n",
        "        activation_map (numpy arr): Activation map (grayscale) 0-255\n",
        "        colormap_name (str): Name of the colormap\n",
        "    \"\"\"\n",
        "    # Get colormap\n",
        "    color_map = mpl_color_map.get_cmap(colormap_name)\n",
        "    no_trans_heatmap = color_map(activation)\n",
        "    # Change alpha channel in colormap to make sure original image is displayed\n",
        "    heatmap = copy.copy(no_trans_heatmap)\n",
        "    heatmap[:, :, 3] = 0.4\n",
        "    heatmap = Image.fromarray((heatmap*255).astype(np.uint8))\n",
        "    no_trans_heatmap = Image.fromarray((no_trans_heatmap*255).astype(np.uint8))\n",
        "\n",
        "    # Apply heatmap on iamge\n",
        "    heatmap_on_image = Image.new(\"RGBA\", org_im.size)\n",
        "    heatmap_on_image = Image.alpha_composite(heatmap_on_image, org_im.convert('RGBA'))\n",
        "    heatmap_on_image = Image.alpha_composite(heatmap_on_image, heatmap)\n",
        "    return no_trans_heatmap, heatmap_on_image"
      ]
    },
    {
      "cell_type": "markdown",
      "metadata": {
        "id": "UzXv8qM1rPlc"
      },
      "source": [
        "## Task 1: Network Exploration\n",
        "\n",
        "In this task, you are expected to build a convolutional neural network (CNN) for solving a problem of image recognition and explore strategies that could further strengthen its performance.  "
      ]
    },
    {
      "cell_type": "markdown",
      "metadata": {
        "id": "Gla6ETk0M0GH"
      },
      "source": [
        "### Defining the Model\n",
        "\n",
        "In deep learning, a Convolutional Neural Network (CNN, or ConvNet) is one of the most famous deep learning models that have been widely used in the field of computer vision. A simple CNN often consists of three main types of layers:\n",
        "- **Convolutional Layer**, the core building block that takes over the most of computational burdens, contains a set of filters (or kernels) with learnable parameters while training. It receives as input an image (or a feature map), and computes its output volume by stacking the activation maps convolved by every filter along the depth dimension. \n",
        "- **Pooling Layer** is commonly inserted in-between successive Conv layers in a CNN architecture. Its function is to progressively reduce the spatial size of the representation to reduce the amount of parameters and computation in the network, and hence to also control overfitting. \n",
        "- **Fully Connected Layer** have fully connections to all activations in the previous layer and is usually placed before the output layer to form the last few layers of a CNN Architecture.\n",
        "\n",
        "If you are not familiar with CNN architectures, [this blog](https://towardsdatascience.com/a-comprehensive-guide-to-convolutional-neural-networks-the-eli5-way-3bd2b1164a53) may help you get a better understanding of the mechanism of each layer."
      ]
    },
    {
      "cell_type": "markdown",
      "metadata": {
        "id": "xZyy4lQNM0GH"
      },
      "source": [
        "Define a naive CNN stacked by the layers mentioned above. While doing so, please follow the TODOs provided below. (Refer to [torch.nn](https://pytorch.org/docs/stable/nn.html) for detailed instructions of building basic blocks with PyTorch.)"
      ]
    },
    {
      "cell_type": "code",
      "execution_count": 5,
      "metadata": {
        "colab": {
          "base_uri": "https://localhost:8080/"
        },
        "id": "LVv2SxOihl6K",
        "outputId": "b18ce77f-4265-4526-b5e1-e5a1ab7f7ebb"
      },
      "outputs": [
        {
          "name": "stdout",
          "output_type": "stream",
          "text": [
            "ConvNet(\n",
            "  (conv1): Conv2d(3, 64, kernel_size=(5, 5), stride=(1, 1), padding=same)\n",
            "  (max_pool1): MaxPool2d(kernel_size=2, stride=2, padding=0, dilation=1, ceil_mode=False)\n",
            "  (conv2): Conv2d(64, 128, kernel_size=(5, 5), stride=(1, 1), padding=same)\n",
            "  (max_pool2): MaxPool2d(kernel_size=2, stride=2, padding=0, dilation=1, ceil_mode=False)\n",
            "  (conv3): Conv2d(128, 256, kernel_size=(5, 5), stride=(1, 1), padding=same)\n",
            "  (max_pool3): MaxPool2d(kernel_size=2, stride=2, padding=0, dilation=1, ceil_mode=False)\n",
            "  (conv4): Conv2d(256, 512, kernel_size=(5, 5), stride=(1, 1), padding=same)\n",
            "  (max_pool4): MaxPool2d(kernel_size=2, stride=2, padding=0, dilation=1, ceil_mode=False)\n",
            "  (fc1): Linear(in_features=2048, out_features=2048, bias=True)\n",
            "  (fc2): Linear(in_features=2048, out_features=4096, bias=True)\n",
            "  (fc3): Linear(in_features=4096, out_features=4096, bias=True)\n",
            "  (fc4): Linear(in_features=4096, out_features=10, bias=True)\n",
            ")\n"
          ]
        }
      ],
      "source": [
        "class ConvNet(torch.nn.Module):\n",
        "    def __init__(self):\n",
        "        super(ConvNet, self).__init__()\n",
        "\n",
        "        ##############################################################################\n",
        "        # TODO: Define a simple CNN contraining Conv, Pooling, and FC layers.        #\n",
        "        ##############################################################################\n",
        "        # filter_size = input_size + 2*padding - stride * (output_size - 1)\n",
        "\n",
        "        # Block 1:         3 x 32 x 32 --> 64 x 16 x 16\n",
        "        # 3*32*32 -> 64*32*32\n",
        "        self.conv1 = torch.nn.Conv2d(3, 64, 5, padding='same')\n",
        "        # 64*32*32 -> 64*16*16\n",
        "        self.max_pool1 = torch.nn.MaxPool2d(2, stride=2)\n",
        "\n",
        "        # Block 2:         64 x 16 x 16 --> 128 x 8 x 8\n",
        "        # 64*16*16 -> 128*16*16\n",
        "        self.conv2 = torch.nn.Conv2d(64, 128, 5, padding='same')\n",
        "        # 128*16*16 -> 128*8*8\n",
        "        self.max_pool2 = torch.nn.MaxPool2d(2, stride=2)\n",
        "\n",
        "        # Block 3:         128 x 8 x 8 --> 256 x 4 x 4\n",
        "        # 128*8*8 -> 256*8*8\n",
        "        self.conv3 = torch.nn.Conv2d(128, 256, 5, padding='same')\n",
        "        # 256*8*8 -> 256*4*4\n",
        "        self.max_pool3 = torch.nn.MaxPool2d(2, stride=2)\n",
        "\n",
        "        # Block 4:          256 x 4 x 4 --> 512 x 2 x 2\n",
        "        # 256*4*4 -> 512*4*4\n",
        "        self.conv4 = torch.nn.Conv2d(256, 512, 5, padding='same')\n",
        "        # 512*4*4 -> 512*2*2\n",
        "        self.max_pool4 = torch.nn.MaxPool2d(2, stride=2)\n",
        "\n",
        "        # Linear layers:   512 x 2 x 2 --> 2048 --> 4096 --> 4096 --> 10\n",
        "        self.fc1 = torch.nn.Linear(512*2*2, 2048)\n",
        "        self.fc2 = torch.nn.Linear(2048, 4096)\n",
        "        self.fc3 = torch.nn.Linear(4096, 4096)\n",
        "        self.fc4 = torch.nn.Linear(4096, 10)\n",
        "\n",
        "        ##############################################################################\n",
        "        #                             END OF YOUR CODE                               #\n",
        "        ##############################################################################\n",
        "\n",
        "    def forward(self, x):\n",
        "\n",
        "        ##############################################################################\n",
        "        # TODO: Implement forward path turning an input image to class probability.  #\n",
        "        # For activation function, please use ReLU.                                  #\n",
        "        ##############################################################################\n",
        "\n",
        "        # Block 1:         3 x 32 x 32 --> 64 x 16 x 16\n",
        "        x = self.max_pool1(F.relu(self.conv1(x)))\n",
        "        # Block 2:         64 x 16 x 16 --> 128 x 8 x 8\n",
        "        x = self.max_pool2(F.relu(self.conv2(x)))\n",
        "        # Block 3:         128 x 8 x 8 --> 256 x 4 x 4\n",
        "        x = self.max_pool3(F.relu(self.conv3(x)))\n",
        "        # Block 4:         256 x 4 x 4 --> 512 x 2 x 2\n",
        "        x = self.max_pool4(F.relu(self.conv4(x)))\n",
        "        # Linear layers:   512 x 2 x 2 --> 2048 --> 4096 --> 4096 --> 10\n",
        "        x = x.view(-1, 2048)\n",
        "        x = F.relu(self.fc1(x))\n",
        "        x = F.relu(self.fc2(x))\n",
        "        x = F.relu(self.fc3(x))\n",
        "        x = self.fc4(x)\n",
        "        ##############################################################################\n",
        "        #                             END OF YOUR CODE                               #\n",
        "        ##############################################################################\n",
        "\n",
        "        return x\n",
        "\n",
        "\n",
        "model = ConvNet()\n",
        "model.to(device)\n",
        "# if torch.cuda.is_available():\n",
        "#     model.cuda()\n",
        "print(model)\n"
      ]
    },
    {
      "cell_type": "markdown",
      "metadata": {
        "id": "CT0GtJL3Ag-I"
      },
      "source": [
        "### Training the Model\n",
        "\n",
        "Some default settings for training. "
      ]
    },
    {
      "cell_type": "code",
      "execution_count": 6,
      "metadata": {
        "id": "lZhaZbDXM0GJ"
      },
      "outputs": [],
      "source": [
        "# Hyperparameters\n",
        "epochs = 20\n",
        "batch_size = 128\n",
        "learning_rate = 0.25\n",
        "\n",
        "# Set up optimizer\n",
        "optimizer = optim.SGD(model.parameters(), lr=learning_rate)\n",
        "# Define loss function\n",
        "criterion = torch.nn.CrossEntropyLoss()\n",
        "# Build data loaders\n",
        "train_loader = torch.utils.data.DataLoader(train_set, batch_size=batch_size, shuffle=True, num_workers=1)\n",
        "test_loader = torch.utils.data.DataLoader(test_set, batch_size=batch_size, shuffle=False, num_workers=1)\n",
        "data_loaders = {\"train\": train_loader, \"test\": test_loader}\n",
        "dataset_sizes = {\"train\": train_size, \"test\": test_size}"
      ]
    },
    {
      "cell_type": "markdown",
      "metadata": {
        "id": "1dBQg7OGM0GJ"
      },
      "source": [
        "Here, your job is to implement two functions for training and testing model."
      ]
    },
    {
      "cell_type": "code",
      "execution_count": 7,
      "metadata": {
        "id": "i8ERy2xSuygX"
      },
      "outputs": [],
      "source": [
        "def eval_on_test_set(model):\n",
        "    model.eval()\n",
        "    running_error = 0\n",
        "\n",
        "    for data in test_loader:\n",
        "        pass\n",
        "        ##############################################################################\n",
        "        # TODO: Implement the evaluation process on test set.                        #\n",
        "        ##############################################################################\n",
        "\n",
        "        # Load inputs and labels and deploy to running device\n",
        "        inputs, labels = data\n",
        "        inputs, labels = inputs.to(device), labels.to(device)\n",
        "        # Forward batch data through the net\n",
        "        outputs = model(inputs)\n",
        "        # Compute the error made on this batch and add it to the running error\n",
        "        probs = F.softmax(outputs, dim=1)\n",
        "        pred = torch.argmax(probs, dim=1)\n",
        "        running_error = running_error + (pred != labels).int().sum()\n",
        "        ##############################################################################\n",
        "        #                             END OF YOUR CODE                               #\n",
        "        ##############################################################################\n",
        "        \n",
        "    total_error = running_error / test_size\n",
        "    print('error rate on test set = {:.2f}%'.format(total_error * 100))\n",
        "    model.train()"
      ]
    },
    {
      "cell_type": "code",
      "execution_count": 8,
      "metadata": {
        "id": "iL3QYrp7u1V4"
      },
      "outputs": [],
      "source": [
        "def train_net(model):\n",
        "    start = time.time()\n",
        "    model.train()\n",
        "\n",
        "    for epoch in range(epochs):\n",
        "        # set the running quatities to zero at the beginning of the epoch\n",
        "        running_loss = 0\n",
        "        running_error = 0\n",
        "\n",
        "        for data in train_loader:\n",
        "            pass\n",
        "            ##############################################################################\n",
        "            # TODO: Implement the training process.                                      #\n",
        "            ##############################################################################\n",
        "\n",
        "            # Load inputs and labels and deploy to running device\n",
        "            inputs, labels = data\n",
        "            inputs, labels = inputs.to(device), labels.to(device)\n",
        "            # print(labels[0:5])\n",
        "            # Set the gradients to zeros\n",
        "            optimizer.zero_grad()\n",
        "            # Forward the batch data through the net\n",
        "            outputs = model(inputs)\n",
        "            # print(outputs[0:5])\n",
        "            # Compute the average of the losses of the data points in the minibatch\n",
        "            loss = criterion(outputs, labels)\n",
        "            # Backward pass to compute gradients\n",
        "            loss.backward()\n",
        "            # Do one step of stochastic gradient descent\n",
        "            optimizer.step()\n",
        "            # Add the loss of this batch to the running loss\n",
        "            running_loss = running_loss + loss.item()\n",
        "            # Compute the error made on this batch and add it to the running error\n",
        "            probs = F.softmax(outputs, dim=1)\n",
        "            pred = torch.argmax(probs, dim=1)\n",
        "            running_error = running_error + (pred != labels).int().sum()\n",
        "            ##############################################################################\n",
        "            #                             END OF YOUR CODE                               #\n",
        "            ##############################################################################\n",
        "\n",
        "        # Compute stats for the full training set\n",
        "        total_loss = running_loss / train_size\n",
        "        total_error = running_error / train_size\n",
        "        elapsed = (time.time()-start) / 60\n",
        "\n",
        "        print('epoch= {} \\t time= {:.2f} min \\t loss= {:.3f} \\t error= {:.2f}%'.format(\n",
        "            epoch, elapsed, total_loss, total_error * 100))\n",
        "        eval_on_test_set(model)\n"
      ]
    },
    {
      "cell_type": "markdown",
      "metadata": {
        "id": "-bn3aT55M0GK"
      },
      "source": [
        "Run `train_net` and start training. After training, your error on the testing set should be under 30% (if not, please look back and check your codes, there might be something wrong with the network architecture or training process). Once the training phrase is completed, save the trained model on your device so it can be directly loaded in the following tasks."
      ]
    },
    {
      "cell_type": "code",
      "execution_count": 44,
      "metadata": {
        "id": "rolTuDErM0GK"
      },
      "outputs": [
        {
          "name": "stdout",
          "output_type": "stream",
          "text": [
            "epoch= 0 \t time= 0.20 min \t loss= 0.016 \t error= 77.59%\n",
            "error rate on test set = 70.12%\n",
            "epoch= 1 \t time= 0.45 min \t loss= 0.012 \t error= 58.35%\n",
            "error rate on test set = 54.73%\n",
            "epoch= 2 \t time= 0.69 min \t loss= 0.010 \t error= 44.12%\n",
            "error rate on test set = 40.60%\n",
            "epoch= 3 \t time= 0.94 min \t loss= 0.008 \t error= 33.71%\n",
            "error rate on test set = 31.17%\n",
            "epoch= 4 \t time= 1.18 min \t loss= 0.006 \t error= 25.26%\n",
            "error rate on test set = 27.54%\n",
            "epoch= 5 \t time= 1.43 min \t loss= 0.004 \t error= 19.15%\n",
            "error rate on test set = 29.69%\n",
            "epoch= 6 \t time= 1.67 min \t loss= 0.003 \t error= 13.85%\n",
            "error rate on test set = 26.29%\n",
            "epoch= 7 \t time= 1.92 min \t loss= 0.002 \t error= 9.82%\n",
            "error rate on test set = 24.52%\n",
            "epoch= 8 \t time= 2.16 min \t loss= 0.002 \t error= 6.77%\n",
            "error rate on test set = 27.49%\n",
            "epoch= 9 \t time= 2.41 min \t loss= 0.001 \t error= 4.77%\n",
            "error rate on test set = 27.35%\n",
            "epoch= 10 \t time= 2.65 min \t loss= 0.001 \t error= 3.61%\n",
            "error rate on test set = 24.53%\n",
            "epoch= 11 \t time= 2.90 min \t loss= 0.001 \t error= 3.02%\n",
            "error rate on test set = 25.36%\n",
            "epoch= 12 \t time= 3.15 min \t loss= 0.000 \t error= 2.00%\n",
            "error rate on test set = 25.91%\n",
            "epoch= 13 \t time= 3.39 min \t loss= 0.000 \t error= 1.72%\n",
            "error rate on test set = 23.53%\n",
            "epoch= 14 \t time= 3.64 min \t loss= 0.000 \t error= 1.54%\n",
            "error rate on test set = 23.73%\n",
            "epoch= 15 \t time= 3.88 min \t loss= 0.000 \t error= 1.08%\n",
            "error rate on test set = 24.42%\n",
            "epoch= 16 \t time= 4.13 min \t loss= 0.000 \t error= 1.02%\n",
            "error rate on test set = 25.43%\n",
            "epoch= 17 \t time= 4.37 min \t loss= 0.000 \t error= 0.83%\n",
            "error rate on test set = 25.10%\n",
            "epoch= 18 \t time= 4.62 min \t loss= 0.000 \t error= 0.81%\n",
            "error rate on test set = 23.55%\n",
            "epoch= 19 \t time= 4.86 min \t loss= 0.000 \t error= 0.71%\n",
            "error rate on test set = 24.00%\n"
          ]
        }
      ],
      "source": [
        "# Start training\n",
        "train_net(model)\n",
        "# Save the trained model\n",
        "torch.save(model.state_dict(), './model_cnn.pt')"
      ]
    },
    {
      "cell_type": "markdown",
      "metadata": {
        "id": "D94cT95fDn4q"
      },
      "source": [
        "### Ploting the Results\n",
        "\n",
        "Now you have finished model training, let's randomly pick some test images, feed them into your model and see how they turn out. (There is nothing to implement in this section.)"
      ]
    },
    {
      "cell_type": "code",
      "execution_count": 9,
      "metadata": {
        "colab": {
          "base_uri": "https://localhost:8080/"
        },
        "id": "OAEMjcgax1cK",
        "outputId": "5d4e9b0b-19bb-4e19-b92f-c5eae7e316f5"
      },
      "outputs": [
        {
          "data": {
            "text/plain": [
              "ConvNet(\n",
              "  (conv1): Conv2d(3, 64, kernel_size=(5, 5), stride=(1, 1), padding=same)\n",
              "  (max_pool1): MaxPool2d(kernel_size=2, stride=2, padding=0, dilation=1, ceil_mode=False)\n",
              "  (conv2): Conv2d(64, 128, kernel_size=(5, 5), stride=(1, 1), padding=same)\n",
              "  (max_pool2): MaxPool2d(kernel_size=2, stride=2, padding=0, dilation=1, ceil_mode=False)\n",
              "  (conv3): Conv2d(128, 256, kernel_size=(5, 5), stride=(1, 1), padding=same)\n",
              "  (max_pool3): MaxPool2d(kernel_size=2, stride=2, padding=0, dilation=1, ceil_mode=False)\n",
              "  (conv4): Conv2d(256, 512, kernel_size=(5, 5), stride=(1, 1), padding=same)\n",
              "  (max_pool4): MaxPool2d(kernel_size=2, stride=2, padding=0, dilation=1, ceil_mode=False)\n",
              "  (fc1): Linear(in_features=2048, out_features=2048, bias=True)\n",
              "  (fc2): Linear(in_features=2048, out_features=4096, bias=True)\n",
              "  (fc3): Linear(in_features=4096, out_features=4096, bias=True)\n",
              "  (fc4): Linear(in_features=4096, out_features=10, bias=True)\n",
              ")"
            ]
          },
          "execution_count": 9,
          "metadata": {},
          "output_type": "execute_result"
        }
      ],
      "source": [
        "assert os.path.exists('./model_cnn.pt'), 'train the model first'\n",
        "# Load the trained model\n",
        "model.load_state_dict(torch.load('./model_cnn.pt', map_location=torch.device('cpu')))\n",
        "model.to(device)\n",
        "model.eval()"
      ]
    },
    {
      "cell_type": "code",
      "execution_count": 113,
      "metadata": {
        "id": "BiWyCjxO4zqr"
      },
      "outputs": [
        {
          "name": "stdout",
          "output_type": "stream",
          "text": [
            "4336\n"
          ]
        },
        {
          "data": {
            "image/png": "[encoded data removed]",
            "text/plain": [
              "<Figure size 360x360 with 2 Axes>"
            ]
          },
          "metadata": {
            "needs_background": "light"
          },
          "output_type": "display_data"
        }
      ],
      "source": [
        "# Choose a picture at random\n",
        "idx = randint(0, test_size-1)\n",
        "print(idx)\n",
        "im, label = test_set[idx]\n",
        "org_im = inverse_transform(im)\n",
        "\n",
        "# Send to device, rescale, and view as a batch of 1 \n",
        "im = im.to(device)\n",
        "im = im.view(1,3,32,32)\n",
        "\n",
        "# Feed it to the net and display the confidence scores\n",
        "scores = model(im)\n",
        "probs = F.softmax(scores, dim=1)\n",
        "show_prob_cifar(org_im, label, probs)"
      ]
    },
    {
      "cell_type": "markdown",
      "metadata": {
        "id": "8bzpepNjM0GL"
      },
      "source": [
        "### Refining the Model\n",
        "\n",
        "Although the vallina model has achieved fair classification results, the test error is still high remaining huge room for further improvement. There are lots of methods to refine your model, such as **modifying the network architecture** (e.g., making your network deeper), **optimizing the learning strategy** (e.g., optimizer, loss function), and **tuning the hyperparameters** (e.g., learning rate, training iterations), etc. Please try at least **TWO** different methods to improve your model's performance, and discuss why these changes can work. Design and conduct your own experiments using the coding cell below, and present your experimental results and analysis in a decent way (e.g., drawing some neat figures/tables can help to convey your thoughts effectively). "
      ]
    },
    {
      "cell_type": "code",
      "execution_count": 30,
      "metadata": {
        "id": "qCSaQAUgM0GL"
      },
      "outputs": [
        {
          "name": "stdout",
          "output_type": "stream",
          "text": [
            "epoch= 0 \t time= 0.09 min \t loss= 0.013 \t error= 64.25%\n",
            "error rate on test set = 54.38%\n",
            "epoch= 1 \t time= 0.20 min \t loss= 0.010 \t error= 45.80%\n",
            "error rate on test set = 38.57%\n",
            "epoch= 2 \t time= 0.31 min \t loss= 0.008 \t error= 35.23%\n",
            "error rate on test set = 32.44%\n",
            "epoch= 3 \t time= 0.42 min \t loss= 0.007 \t error= 29.09%\n",
            "error rate on test set = 28.56%\n",
            "epoch= 4 \t time= 0.53 min \t loss= 0.006 \t error= 24.66%\n",
            "error rate on test set = 25.66%\n",
            "epoch= 5 \t time= 0.64 min \t loss= 0.005 \t error= 22.15%\n",
            "error rate on test set = 25.19%\n",
            "epoch= 6 \t time= 0.75 min \t loss= 0.005 \t error= 19.73%\n",
            "error rate on test set = 23.71%\n",
            "epoch= 7 \t time= 0.86 min \t loss= 0.004 \t error= 17.38%\n",
            "error rate on test set = 22.48%\n",
            "epoch= 8 \t time= 0.97 min \t loss= 0.004 \t error= 15.56%\n",
            "error rate on test set = 22.38%\n",
            "epoch= 9 \t time= 1.08 min \t loss= 0.003 \t error= 14.01%\n",
            "error rate on test set = 21.68%\n",
            "epoch= 10 \t time= 1.19 min \t loss= 0.003 \t error= 12.52%\n",
            "error rate on test set = 21.00%\n",
            "epoch= 11 \t time= 1.30 min \t loss= 0.003 \t error= 11.11%\n",
            "error rate on test set = 20.22%\n",
            "epoch= 12 \t time= 1.41 min \t loss= 0.002 \t error= 10.08%\n",
            "error rate on test set = 20.34%\n",
            "epoch= 13 \t time= 1.52 min \t loss= 0.002 \t error= 8.83%\n",
            "error rate on test set = 20.33%\n",
            "epoch= 14 \t time= 1.63 min \t loss= 0.002 \t error= 8.55%\n",
            "error rate on test set = 20.39%\n",
            "epoch= 15 \t time= 1.74 min \t loss= 0.002 \t error= 7.60%\n",
            "error rate on test set = 19.63%\n",
            "epoch= 16 \t time= 1.85 min \t loss= 0.002 \t error= 7.03%\n",
            "error rate on test set = 19.45%\n",
            "epoch= 17 \t time= 1.96 min \t loss= 0.001 \t error= 6.27%\n",
            "error rate on test set = 19.02%\n",
            "epoch= 18 \t time= 2.08 min \t loss= 0.001 \t error= 6.15%\n",
            "error rate on test set = 19.60%\n",
            "epoch= 19 \t time= 2.19 min \t loss= 0.001 \t error= 5.46%\n",
            "error rate on test set = 20.18%\n"
          ]
        },
        {
          "data": {
            "image/png": "[encoded data removed]",
            "text/plain": [
              "<Figure size 432x288 with 1 Axes>"
            ]
          },
          "metadata": {
            "needs_background": "light"
          },
          "output_type": "display_data"
        }
      ],
      "source": [
        "##############################################################################\n",
        "# TODO: Conduct experiments to refine your model (e.g., modify the backbone, #\n",
        "# alter the learning strategy, and tuning the hyperparameters, etc.).        #\n",
        "##############################################################################\n",
        "\n",
        "# your code\n",
        "torch.manual_seed(1)\n",
        "\n",
        "# initialize a new model\n",
        "nn = torch.nn\n",
        "new_model = torch.nn.Sequential(\n",
        "    # 3*32*32 -> 64*32*32\n",
        "    nn.Conv2d(3, 64, 3, stride=1, padding='same'),\n",
        "    nn.ReLU(),\n",
        "    # 64*32*32 -> 64*32*32\n",
        "    nn.Conv2d(64, 64, 3, stride=1, padding='same'),\n",
        "    nn.ReLU(),\n",
        "    # 64*32*32 -> 64*16*16\n",
        "    nn.MaxPool2d(2, stride=2),\n",
        "\n",
        "    # 64*16*16 -> 128*16*16\n",
        "    nn.Conv2d(64, 128, 3, stride=1, padding='same'),\n",
        "    nn.ReLU(),\n",
        "    # 128*16*16 -> 128*16*16\n",
        "    nn.Conv2d(128, 128, 3, stride=1, padding='same'),\n",
        "    nn.ReLU(),\n",
        "    # 128*16*16 -> 128*8*8\n",
        "    nn.MaxPool2d(2, stride=2),\n",
        "\n",
        "    # 128*8*8 -> 256*8*8\n",
        "    nn.Conv2d(128, 256, 3, stride=1, padding='same'),\n",
        "    nn.ReLU(),\n",
        "    # 256*8*8 -> 256*8*8\n",
        "    nn.Conv2d(256, 256, 3, stride=1, padding='same'),\n",
        "    nn.ReLU(),\n",
        "    # 256*8*8 -> 256*4*4\n",
        "    nn.MaxPool2d(2, stride=2),\n",
        "\n",
        "    # 256*4*4 ->  4096\n",
        "    nn.Flatten(),\n",
        "    # 4096 -> 128\n",
        "    nn.Linear(256*4*4, 128),\n",
        "    nn.ReLU(),\n",
        "    nn.Dropout2d(p=0.5),\n",
        "\n",
        "    # 128 -> 10\n",
        "    nn.Linear(128, 10)\n",
        ")\n",
        "\n",
        "new_model.to(device)\n",
        "\n",
        "# new hyperparameters\n",
        "new_epochs = 20\n",
        "new_learning_rate = 0.001\n",
        "\n",
        "# Set up new optimizer\n",
        "new_optimizer = optim.Adam(new_model.parameters(), lr=new_learning_rate, weight_decay=1e-4)\n",
        "\n",
        "# start training\n",
        "start = time.time()\n",
        "model.train()\n",
        "\n",
        "train_acc = []\n",
        "test_acc = []\n",
        "\n",
        "for epoch in range(new_epochs):\n",
        "    # set the running quatities to zero at the beginning of the epoch\n",
        "    running_loss = 0\n",
        "    running_error = 0\n",
        "\n",
        "    for data in train_loader:\n",
        "        # Load inputs and labels and deploy to running device\n",
        "        inputs, labels = data\n",
        "        inputs, labels = inputs.to(device), labels.to(device)\n",
        "        # print(labels[0:5])\n",
        "        # Set the gradients to zeros\n",
        "        new_optimizer.zero_grad()\n",
        "        # Forward the batch data through the net\n",
        "        outputs = new_model(inputs)\n",
        "        # print(outputs[0:5])\n",
        "        # Compute the average of the losses of the data points in the minibatch\n",
        "        loss = criterion(outputs, labels)\n",
        "        # Backward pass to compute gradients\n",
        "        loss.backward()\n",
        "        # Do one step of stochastic gradient descent\n",
        "        new_optimizer.step()\n",
        "        # Add the loss of this batch to the running loss\n",
        "        running_loss = running_loss + loss.item()\n",
        "        # Compute the error made on this batch and add it to the running error\n",
        "        probs = F.softmax(outputs, dim=1)\n",
        "        pred = torch.argmax(probs, dim=1)\n",
        "        running_error = running_error + (pred != labels).int().sum()\n",
        "\n",
        "    # Compute stats for the full training set\n",
        "    total_loss = running_loss / train_size\n",
        "    total_error = running_error / train_size\n",
        "    elapsed = (time.time()-start) / 60\n",
        "\n",
        "    print('epoch= {} \\t time= {:.2f} min \\t loss= {:.3f} \\t error= {:.2f}%'.format(\n",
        "        epoch, elapsed, total_loss, total_error * 100))\n",
        "    \n",
        "    train_acc.append(1 - total_error.cpu().data.numpy())\n",
        "\n",
        "    model.eval()\n",
        "    running_error = 0\n",
        "\n",
        "    for data in test_loader:\n",
        "        # Load inputs and labels and deploy to running device\n",
        "        inputs, labels = data\n",
        "        inputs, labels = inputs.to(device), labels.to(device)\n",
        "        # Forward batch data through the net\n",
        "        outputs = new_model(inputs)\n",
        "        # Compute the error made on this batch and add it to the running error\n",
        "        probs = F.softmax(outputs, dim=1)\n",
        "        pred = torch.argmax(probs, dim=1)\n",
        "        running_error = running_error + (pred != labels).int().sum()\n",
        "        \n",
        "    total_error = running_error / test_size\n",
        "    print('error rate on test set = {:.2f}%'.format(total_error * 100))\n",
        "\n",
        "    test_acc.append(1 - total_error.cpu().data.numpy())\n",
        "\n",
        "    model.train()\n",
        "\n",
        "# draw the accuracy along each epoch\n",
        "plt.figure()\n",
        "plt.plot(range(0, new_epochs), train_acc, label='training accuracy')\n",
        "plt.plot(range(0, new_epochs), test_acc, label='test accuracy')\n",
        "plt.title(f'accuracy of training set and test set along each epoch')\n",
        "plt.xlabel('epochs')\n",
        "plt.ylabel('accuracy')\n",
        "plt.legend()\n",
        "plt.show()\n",
        "##############################################################################\n",
        "#                             END OF YOUR CODE                               #\n",
        "##############################################################################"
      ]
    },
    {
      "cell_type": "markdown",
      "metadata": {
        "id": "Q_h-EZlAM0GL"
      },
      "source": [
        "---\n",
        "**Write your observations and analysis in this Markdown cell:**\n",
        "\n",
        "---\n",
        "### 1. Make the network deeper (error rate: 21%-22%)\n",
        "\n",
        "A deeper CNN is built based on the same original hyperparamers and learning strategy, which has 6 conv layers, 3 max pooling layers and one fully connected layer. The error rate has slightly reduced by around 2% (21%-22%). This might be because the extra conv layers can extract more features from the images which might help to classify. The accuracy is shown below.\n",
        "\n",
        "<img src='./figures/refined_deeper.png'/>\n",
        "\n",
        "### 2. Change the optimizer to Adam and learning rate (error rate: 20%-21%)\n",
        "\n",
        "By using the Adam optimizer with learning rate as 0.001, the overall accuracy only improved about 1%. The adam optimizer can be more effective for computation and mermory with a sufficiently small learning rate (in this case it is 0.001) and can be used for big dataset. Besides, since the learning rate is smaller, it might be able to get to a better local minimum. \n",
        "\n",
        "<img src='./figures/refined_adam.png'/>\n",
        "\n",
        "### 3. Regularization (error rate: 17%-20%)\n",
        "\n",
        "As the above figures shown, the refined model has some overfitting issue after around 10 epochs. Therefore, it is necessary to do some regularization. After the fully connected layer, 50% dropout has been applied. The accuracy can be improved by between 1% and 3%, depending upon the initial weights.\n",
        "\n",
        "<img src='./figures/refined_final.png'/>\n",
        "\n",
        "Overall, how deep the network or complex the model is can have more effects on the final accuracy, but we also need to be careful about the overfitting problem.\n"
      ]
    },
    {
      "cell_type": "markdown",
      "metadata": {
        "id": "-dQFsHMr_8ol"
      },
      "source": [
        "## Task 2: Model Interpretation\n",
        "\n",
        "The model is doing well, eating images and predicting results; however, everything that happens inside is opaque and hard to explain. So, how can we interpret how CNN sees and understands when making a decision? \n",
        "\n",
        "In this section, we are going to explore Grad-CAM, a visual explanation algorithm that generates heatmaps indicating where the network is \"looking\" in the forward pass."
      ]
    },
    {
      "cell_type": "markdown",
      "metadata": {
        "id": "1A5R7xNgM0GM"
      },
      "source": [
        "#### Grad-CAM\n",
        "\n",
        "Gradient-weighted Class Activation Mapping (Grad-CAM) [1], uses the gradients of any target concept, flowing into the final convolutional layer to produce a coarse localization map highlighting important regions in the image for predicting the concept. An overview of the workflow of Grad-CAM is shown below. Please read the paper [1], understand the algorithm, and implement `generate_cam`.\n",
        "\n",
        "<img src=\"./figures/gradcam_network.png\" width=\"800\"/>\n",
        "\n",
        "[1] [Selvaraju, Ramprasaath R., et al. \"Grad-cam: Visual explanations from deep networks via gradient-based localization.\" ICCV 2017.](https://arxiv.org/abs/1610.02391)"
      ]
    },
    {
      "cell_type": "code",
      "execution_count": 22,
      "metadata": {
        "id": "XeIuzZTBM0GM"
      },
      "outputs": [],
      "source": [
        "gradients = []  # A gloabl variable used to save the gradient\n",
        "\n",
        "\n",
        "def generate_cam(model, input_image, target_layer='conv4', target_class=None):\n",
        "    \"\"\"\n",
        "    A function to generate Grad-CAM of specific layer and class on an input image using given model.\n",
        "\n",
        "    Inputs\n",
        "    - model: A PyTorch model.\n",
        "    - input_image: A PyTorch Tensor of shape (1, C, H, W).\n",
        "    - target_layer: A String indicating the name of targeted convolutional layer being visualized (e.g., 'conv4').\n",
        "                    By default, use the last conv layer of the model.\n",
        "    - target_class: An Integer indicating the lable of targeted class being visualized (e.g., 1). \n",
        "                    If None, use the predicted class as target class.\n",
        "\n",
        "    Returns: A NumPy Array of shape (N, C, H, W) showing the intended heatmap.\n",
        "    \"\"\"\n",
        "\n",
        "    ##############################################################################\n",
        "    # TODO: Given an input image, generate its Grad-CAM on target conv layer     #\n",
        "    # using the backward gradients from a specific class.                        #\n",
        "    # 1. Forward the input image, when you also need to register the gradient    #\n",
        "    # hook so as to get the gradient in backward pass (hint: register_hook).     #\n",
        "    # 2. Backward pass with specified target class, and get gradients.           #\n",
        "    # 3. Average each gradient, multiply with its conv output, and sum together. #\n",
        "    ##############################################################################\n",
        "\n",
        "    # your code\n",
        "    # define hook functions\n",
        "    output_features = []\n",
        "\n",
        "    def get_feature_hook(_, __, output):\n",
        "        # store the numpy type\n",
        "        output_features.append(output.cpu().data.numpy().squeeze())\n",
        "\n",
        "    grads = []\n",
        "\n",
        "    def get_gradient_hook(_, __, grad):\n",
        "        # store the numpy type\n",
        "        grads.append(grad[0].cpu().data.numpy().squeeze())\n",
        "\n",
        "    model.eval()\n",
        "\n",
        "    # register hooks\n",
        "    layer_instance = model._modules[target_layer]\n",
        "    layer_instance.register_forward_hook(get_feature_hook)\n",
        "    layer_instance.register_backward_hook(get_gradient_hook)\n",
        "\n",
        "    # 1. forward\n",
        "    scores = model(input_image)\n",
        "    probs = F.softmax(scores, dim=1)\n",
        "    pred_idx = np.argmax(probs.cpu().data.numpy())\n",
        "    # print(f'predict class: {CIFAR_CLASSES[pred_idx]}')\n",
        "\n",
        "    # get the one hot format of the target class\n",
        "    if target_class != None:\n",
        "        idx = target_class\n",
        "    else:\n",
        "        idx = pred_idx\n",
        "\n",
        "    one_hot_output = F.one_hot(torch.tensor(idx), num_classes=scores.size()[1])\n",
        "    # convert to float type\n",
        "    one_hot_output = one_hot_output.float()\n",
        "    one_hot_output.requires_grad = True\n",
        "    # get the tensor(target class probability)\n",
        "    target_val = torch.sum(one_hot_output.to(device) * scores)\n",
        "\n",
        "    # 2. backward from the specific target class\n",
        "    model.zero_grad()\n",
        "    target_val.backward()\n",
        "\n",
        "    # get the feature map and gradient of the corresponding layer\n",
        "    features = output_features[0]\n",
        "    grad = grads[0]\n",
        "\n",
        "    # print(f'{target_layer} output feature size: {features.shape}')\n",
        "    # print(f'{target_layer} output gradient size: {grad.shape}')\n",
        "\n",
        "    # 3. average the grads, multiply to each feature and sum\n",
        "    # get the weights for each feature (C, 1)\n",
        "    weights = np.mean(grad, axis=(1, 2))\n",
        "\n",
        "    # multiply to each feature and sum\n",
        "    feature_c, feature_h, feature_w = features.shape\n",
        "    # (1, C)*(C, H*W) = (1, H*W) -> (H, W)\n",
        "    cam = np.dot(weights.T, features.reshape(\n",
        "        (feature_c, feature_h*feature_w))).reshape((feature_h, feature_w))\n",
        "\n",
        "    ##############################################################################\n",
        "    #                             END OF YOUR CODE                               #\n",
        "    ##############################################################################\n",
        "    # Post processing\n",
        "    cam = np.maximum(cam, 0)\n",
        "    cam = (cam - np.min(cam)) / (np.max(cam) -\n",
        "                                 np.min(cam))  # Normalize between 0-1\n",
        "    cam = np.uint8(cam * 255)  # Scale between 0-255 to visualize\n",
        "    cam = np.uint8(Image.fromarray(cam).resize((input_image.shape[2],\n",
        "                                                input_image.shape[3]), Image.ANTIALIAS))\n",
        "\n",
        "    return cam\n"
      ]
    },
    {
      "cell_type": "code",
      "execution_count": 21,
      "metadata": {
        "id": "WqbdtbZkM0GM"
      },
      "outputs": [
        {
          "data": {
            "image/png": "[encoded data removed]",
            "text/plain": [
              "<Figure size 432x288 with 2 Axes>"
            ]
          },
          "metadata": {
            "needs_background": "light"
          },
          "output_type": "display_data"
        }
      ],
      "source": [
        "idx = randint(0, test_size-1)\n",
        "im, label = test_set[idx]\n",
        "org_im = inverse_transform(im)\n",
        "\n",
        "im = im.to(device)\n",
        "im = im.view(1,3,32,32)\n",
        "\n",
        "ax = plt.subplot(1, 2, 1)\n",
        "ax.imshow(org_im)\n",
        "ax.set_title('Original Image')\n",
        "ax.set_axis_off()\n",
        "\n",
        "cam = generate_cam(model, im)\n",
        "\n",
        "heatmap, heatmap_on_image = apply_colormap_on_image(org_im, cam, 'hsv')\n",
        "\n",
        "ax = plt.subplot(1, 2, 2)\n",
        "ax.imshow(heatmap_on_image)\n",
        "ax.set_title('Grad-CAM')\n",
        "ax.set_axis_off()"
      ]
    },
    {
      "cell_type": "markdown",
      "metadata": {
        "id": "cx6UvyNwM0GM"
      },
      "source": [
        "### Performing Visual Explanation\n",
        "\n",
        "Now you have successfully built a powerful tool (i.e., Grad-CAM) that can assist you to visualize and understand the CNN models. Try to make full use of `generate_cam` and design at least **TWO** experiments that can further explain how CNN sees and understands the images. For example, apply Grad-CAM on different layers and compare their differences. Please quantitatively show some evidence (e.g., plotting some examplar images clearly and elegantly) with necessary code snippets, write down your observations and briefly explain each. "
      ]
    },
    {
      "cell_type": "code",
      "execution_count": 23,
      "metadata": {
        "id": "tqSVsjr9M0GM"
      },
      "outputs": [],
      "source": [
        "##############################################################################\n",
        "# TODO: Write code snippets to present your experiments (hint: if you want   #\n",
        "# to plot multiple images in one single figure, plt.subplot should help).    #\n",
        "##############################################################################\n",
        "\n",
        "# your code\n",
        "# idx = randint(0, test_size-1)\n",
        "# print(idx)\n",
        "# 5544(wrong to deer) -> plane\n",
        "# 8711 -> deer\n",
        "def draw_cam(img_idx, target_class=None):\n",
        "    im, label = test_set[img_idx]\n",
        "    print(f'truth: {CIFAR_CLASSES[label]}')\n",
        "    org_im = inverse_transform(im)\n",
        "\n",
        "    im = im.to(device)\n",
        "    im = im.view(1, 3, 32, 32)\n",
        "\n",
        "    scores = model(im)\n",
        "    probs = F.softmax(scores, dim=1)\n",
        "    pred_idx = np.argmax(probs.cpu().data.numpy())\n",
        "    print(f'predict class: {CIFAR_CLASSES[pred_idx]}')\n",
        "    if (target_class == None):\n",
        "        print(f'provided target class: {CIFAR_CLASSES[pred_idx]}')\n",
        "    else:\n",
        "        print(f'provided target class: {CIFAR_CLASSES[target_class]}')\n",
        "\n",
        "    layers = ['conv1', 'conv2', 'conv3', 'conv4']\n",
        "\n",
        "    plt.figure(figsize=(16, 8))\n",
        "    col_num = 1+len(layers)\n",
        "    ax = plt.subplot(1, col_num, 1)\n",
        "    ax.imshow(org_im)\n",
        "    ax.set_title('Original Image')\n",
        "    ax.set_axis_off()\n",
        "\n",
        "    # draw the grad_cam of each conv layer for this img\n",
        "    for index, layer in enumerate(layers):\n",
        "        cam = generate_cam(model, im, target_layer=layer,\n",
        "                           target_class=target_class)\n",
        "\n",
        "        _, heatmap_on_image = apply_colormap_on_image(org_im, cam, 'hsv')\n",
        "\n",
        "        ax = plt.subplot(1, col_num, index+2)\n",
        "        ax.imshow(heatmap_on_image)\n",
        "        ax.set_title(f'Grad-CAM-{layer}')\n",
        "        ax.set_axis_off()\n"
      ]
    },
    {
      "cell_type": "code",
      "execution_count": 24,
      "metadata": {},
      "outputs": [
        {
          "name": "stdout",
          "output_type": "stream",
          "text": [
            "===1. Difference between different layers for the same image===\n",
            "truth: Deer\n",
            "predict class: Deer\n",
            "provided target class: Deer\n"
          ]
        },
        {
          "data": {
            "image/png": "[encoded data removed]",
            "text/plain": [
              "<Figure size 1152x576 with 5 Axes>"
            ]
          },
          "metadata": {
            "needs_background": "light"
          },
          "output_type": "display_data"
        }
      ],
      "source": [
        "print(f'===1. Difference between different layers for the same image===')\n",
        "draw_cam(img_idx=8711, target_class=None)"
      ]
    },
    {
      "cell_type": "code",
      "execution_count": 25,
      "metadata": {},
      "outputs": [
        {
          "name": "stdout",
          "output_type": "stream",
          "text": [
            "===2. Wrong prediction cam===\n",
            "truth: Airplane\n",
            "predict class: Deer\n",
            "provided target class: Deer\n"
          ]
        },
        {
          "data": {
            "image/png": "[encoded data removed]",
            "text/plain": [
              "<Figure size 1152x576 with 5 Axes>"
            ]
          },
          "metadata": {
            "needs_background": "light"
          },
          "output_type": "display_data"
        }
      ],
      "source": [
        "print(f'===2. Wrong prediction cam===')\n",
        "draw_cam(img_idx=5544, target_class=None)"
      ]
    },
    {
      "cell_type": "code",
      "execution_count": 26,
      "metadata": {},
      "outputs": [
        {
          "name": "stdout",
          "output_type": "stream",
          "text": [
            "===3. Wrong prediction cam with provided correct targer_class===\n",
            "truth: Airplane\n",
            "predict class: Deer\n",
            "provided target class: Airplane\n"
          ]
        },
        {
          "data": {
            "image/png": "[encoded data removed]",
            "text/plain": [
              "<Figure size 1152x576 with 5 Axes>"
            ]
          },
          "metadata": {
            "needs_background": "light"
          },
          "output_type": "display_data"
        }
      ],
      "source": [
        "print(f'===3. Wrong prediction cam with provided correct targer_class===')\n",
        "# 0 is the airplane\n",
        "draw_cam(img_idx=5544, target_class=0)\n",
        "##############################################################################\n",
        "#                             END OF YOUR CODE                               #\n",
        "##############################################################################"
      ]
    },
    {
      "cell_type": "markdown",
      "metadata": {
        "id": "Xg4LAsKzM0GN"
      },
      "source": [
        "---\n",
        "\n",
        "**Write your observations and analysis in this Markdown cell:**\n",
        "\n",
        "---\n",
        "### 1. Different conv layers for the image\n",
        "\n",
        "The grad cams of each conv layer for a deer image which is correctly predicted as a deer are shown in the below figure.\n",
        "\n",
        "<img src='./figures/cam_deer.png'/>\n",
        "\n",
        "- conv1\n",
        "\n",
        "The conv1 seems to focus more on the background environment of the deer.\n",
        "\n",
        "- conv2\n",
        "\n",
        "The conv2 layer focus more on the horns of the deer, which are more like the patrs of the deer itself.\n",
        "\n",
        "- conv3\n",
        "\n",
        "The conv3 is not that intuitive and explainable compared to the above two, but it might focus more on the overall position that a deer-type image should be.\n",
        "\n",
        "- conv4\n",
        "The conv4 might be focused on the smother part of the image or darker part of the image. In this case it is the body of the deer.\n",
        "\n",
        "### 2. Cams for wrong prediction image\n",
        "\n",
        "This part shows the cams of each conv layer of a air plane image whichi is wrongly predicted as a deer.\n",
        "\n",
        "<img src='./figures/cam_plane_deer.png'/>\n",
        "\n",
        "As the above figure shows, the focus points of each conv layer are similar to that of deer image. For example, the conv1 focuses on the background and boundary of the plane and the conv2 focuses on the plane itself, just like the horns of the deer. This might indicate that when the model classifies a image, firstly it will focuses\n",
        "more on the **background** in the conv1; then the focused point will be some **special shape** of the object itself; next it will be focused more on the **overall position** of the object and lastly the **smoother parts**.\n",
        "\n",
        "### 3. Cams for providing a target class\n",
        "\n",
        "This part shows the cams of the same plane image but with a provided target class which is the correct label.\n",
        "\n",
        "<img src='./figures/cam_plane_plane.png'/>\n",
        "\n",
        "As the above figure shows, when a target class (air plane) provided and using it to get the gradient, differnt cams can be obtained. This means a different target class for the same image has different cams, which might lead to different scores for differnet classes. The general focus points are similar to the previous air plane image but with different **\"focused results\"**. For example, in the conv1, the focused point might mainly be the background, but with this target class it focuses on the plane itself. This might be the one of the reasons why it is wrongly predicted."
      ]
    },
    {
      "cell_type": "markdown",
      "metadata": {
        "id": "-HdsDUNRBZUO"
      },
      "source": [
        "## Task 3: Adversarial Attack\n",
        "\n",
        "After going through some testing results in Task 1, you might think in most cases the model performs pretty well, predicting the correct classes with high confidence, and rarely making mistakes. However, the network is not as strong as you think. The network can be vulnerable and easily fooled by simply adding some very small distributions on input images. In this section, we are going to attack our previously trained model by generating adversarial images that visually look alike but crush the model without striking a blowing."
      ]
    },
    {
      "cell_type": "markdown",
      "metadata": {
        "id": "r5VahUjAM0GN"
      },
      "source": [
        "### Adversarial Examples\n",
        "\n",
        "Adversarial examples are specialised inputs created with the purpose of confusing a neural network, resulting in the misclassification of a given input. These examples are usually generated by adding imperceptible non-random perturbations to the image, which are indistinguishable to human eye, but can cause the network to fail to identify the contents of the image. There are many kinds of such attack strategies, here we focus on the **Fast Gradient Sign Method (FGSM)** [2]. FGSM is a white box attack where the attacker has complete access to the model being attacked. The method uses the gradients of the loss with respect to the input image to create a new image that maximises the loss. Below shows a famous exmaple taken from the paper [2], where the classification of image showing \"panda\" is changed to \"gibbon\" after adding an imperceptibly small vector: $\\text{sign}(\\nabla_xJ(\\theta, x, y))$.\n",
        "\n",
        "<img src=\"./figures/adversarial_example.png\" width=\"800\"/>\n",
        "\n",
        "Read the paper [2] for more details, and then implement the following function `generate_adv_image`, which generates \"fooling images\" of target class to attack your network. \n",
        "\n",
        "[2] [Goodfellow, Ian J., Jonathon Shlens, and Christian Szegedy. \"Explaining and harnessing adversarial examples.\" ICLR 2015.](https://arxiv.org/abs/1412.6572)"
      ]
    },
    {
      "cell_type": "code",
      "execution_count": 28,
      "metadata": {
        "id": "fCXtg4L5M0GN"
      },
      "outputs": [],
      "source": [
        "def generate_adv_image(model, inputs, labels, targets=None, eps=0.07):\n",
        "    \"\"\"\n",
        "    A function to generate adversarial examples.\n",
        "\n",
        "    Inputs\n",
        "    - model: A PyTorch model.\n",
        "    - inputs: Input images, a PyTorch Tensor of shape (N, C, H, W).\n",
        "    - labels: Ground truth labels of input images, a PyTorch Tensor of shape (N,).\n",
        "    - targets: The target classes you want the model to misclassify, a PyTorch Tensor of shape (N,).\n",
        "\n",
        "    Returns: The adversarial examples of given images.\n",
        "    \"\"\"\n",
        "\n",
        "    ##############################################################################\n",
        "    # TODO: Implement Fast Gradient Sign Method to generate an adversarial image #\n",
        "    # that fools the model to predict incorrect class.                           #\n",
        "    # 1. Get the gradients of the loss w.r.t to the input image.                 #\n",
        "    # 2. Get the sign of the gradients to create the perturbation.               #\n",
        "    # 3. Add the perturbation to the input image.                                #\n",
        "    ##############################################################################\n",
        "\n",
        "    # your code\n",
        "    # 1. Get the gradients of the loss w.r.t to the input image.\n",
        "    inputs.requires_grad = True\n",
        "    scores = model(inputs)\n",
        "\n",
        "    # get the loss\n",
        "    # loss = F.nll_loss(scores, labels)\n",
        "    if targets == None:\n",
        "        # make the label index as a tensor and to the device\n",
        "        if (torch.is_tensor(labels) == False):\n",
        "            labels = torch.tensor(labels, dtype=torch.long).reshape((scores.size()[0])).to(device)\n",
        "        loss = criterion(scores, labels)\n",
        "    else:\n",
        "        if (torch.is_tensor(targets) == False):\n",
        "            targets = torch.tensor(targets, dtype=torch.long).reshape((scores.size()[0])).to(device)\n",
        "        loss = criterion(scores, targets)\n",
        "\n",
        "    model.zero_grad()\n",
        "    loss.backward()\n",
        "\n",
        "    # get the grad of the inputs\n",
        "    grad = inputs.grad.data\n",
        "    # print(f'gradients size of the loss w.r.t to the input image: {grad.shape}')\n",
        "\n",
        "    # 2. Get the sign of the gradients to create the perturbation.\n",
        "    sign_grad = grad.sign()\n",
        "\n",
        "    if targets == None:\n",
        "        adv_inputs = inputs + eps * sign_grad\n",
        "    else:\n",
        "        # if provided a target class, then remove the sign grad\n",
        "        adv_inputs = inputs - eps * sign_grad\n",
        "\n",
        "    ##############################################################################\n",
        "    #                             END OF YOUR CODE                               #\n",
        "    ##############################################################################\n",
        "\n",
        "    return adv_inputs.detach()\n"
      ]
    },
    {
      "cell_type": "markdown",
      "metadata": {
        "id": "DjgmQQrbM0GN"
      },
      "source": [
        "### Attacking the Model"
      ]
    },
    {
      "cell_type": "markdown",
      "metadata": {
        "id": "NuPe5-rWM0GN"
      },
      "source": [
        "Randomly pick up some images from test set, and attack the model using adversarial examples generated by `generate_adv_image`."
      ]
    },
    {
      "cell_type": "code",
      "execution_count": 62,
      "metadata": {
        "id": "C19V8jqzM0GN"
      },
      "outputs": [
        {
          "name": "stdout",
          "output_type": "stream",
          "text": [
            "Before attack:\n"
          ]
        },
        {
          "data": {
            "image/png": "[encoded data removed]",
            "text/plain": [
              "<Figure size 360x360 with 2 Axes>"
            ]
          },
          "metadata": {
            "needs_background": "light"
          },
          "output_type": "display_data"
        },
        {
          "name": "stdout",
          "output_type": "stream",
          "text": [
            "After attack:\n"
          ]
        },
        {
          "data": {
            "image/png": "[encoded data removed]",
            "text/plain": [
              "<Figure size 360x360 with 2 Axes>"
            ]
          },
          "metadata": {
            "needs_background": "light"
          },
          "output_type": "display_data"
        }
      ],
      "source": [
        "idx = randint(0, len(test_set)-1)\n",
        "im, label = test_set[idx]\n",
        "org_im = inverse_transform(im)\n",
        "\n",
        "im = im.to(device)\n",
        "im = im.view(1,3,32,32)\n",
        "\n",
        "print('Before attack:')\n",
        "scores = model(im) \n",
        "probs = F.softmax(scores, dim=1)\n",
        "show_prob_cifar(org_im, label, probs)\n",
        "\n",
        "adv_im = generate_adv_image(model, im, label)\n",
        "\n",
        "print('After attack:')\n",
        "scores = model(adv_im) \n",
        "probs = F.softmax(scores, dim=1)\n",
        "show_prob_cifar(inverse_transform(adv_im[0]), label, probs)"
      ]
    },
    {
      "cell_type": "markdown",
      "metadata": {
        "id": "3ABt3gcMM0GO"
      },
      "source": [
        "Run evaluation on the testing set to see how the model performs on the generated adversarial examples, and compare with results before attacks. Try different parameters (e.g., `targets`, `eps`), describe your observations with a brief explanation in the below cell. "
      ]
    },
    {
      "cell_type": "code",
      "execution_count": 67,
      "metadata": {
        "id": "Bnc7J3hZM0GO"
      },
      "outputs": [
        {
          "name": "stdout",
          "output_type": "stream",
          "text": [
            "error rate on test set = 24.00%\n",
            "===error rate with different eps===\n",
            "error rate when eps is 0.01: 33.34%\n",
            "error rate when eps is 0.07: 66.20%\n",
            "error rate when eps is 0.10: 69.56%\n",
            "error rate when eps is 0.20: 73.30%\n",
            "error rate when eps is 0.30: 74.78%\n",
            "error rate when eps is 0.50: 76.20%\n",
            "\n",
            "\n",
            "===error rate with different eps and target as 0===\n",
            "error rate when eps is 0.01: 25.21%\n",
            "error rate when eps is 0.07: 55.23%\n",
            "error rate when eps is 0.10: 65.85%\n",
            "error rate when eps is 0.20: 80.79%\n",
            "error rate when eps is 0.30: 84.04%\n",
            "error rate when eps is 0.50: 86.01%\n",
            "\n",
            "\n",
            "===error rate with different targets and eps as 0.2===\n",
            "error rate when target is 0: 80.79%\n",
            "error rate when target is 1: 80.79%\n",
            "error rate when target is 2: 80.79%\n",
            "error rate when target is 3: 80.79%\n",
            "error rate when target is 4: 80.79%\n",
            "error rate when target is 5: 80.79%\n",
            "error rate when target is 6: 80.79%\n",
            "error rate when target is 7: 80.79%\n",
            "error rate when target is 8: 80.79%\n",
            "error rate when target is 9: 80.79%\n"
          ]
        }
      ],
      "source": [
        "##############################################################################\n",
        "# TODO: Evaluate error rate on adversarial images generated from testing set #\n",
        "# with different parameter settings.                                         #\n",
        "##############################################################################\n",
        "\n",
        "# your code\n",
        "model.eval()\n",
        "# get the error rate of the original testset for comparison\n",
        "eval_on_test_set(model)\n",
        "\n",
        "epss = [0.01, 0.07, 0.1, 0.2, 0.3, 0.5]\n",
        "targets = [i for i in range(0, 10)]\n",
        "\n",
        "def eval_on_adv_data(eps=0.07, target=None):        \n",
        "    adv_error = 0\n",
        "\n",
        "    for data in test_loader:\n",
        "        # Load inputs and labels and deploy to running device\n",
        "        inputs, labels = data\n",
        "        inputs, labels = inputs.to(device), labels.to(device)\n",
        "\n",
        "        if target != None:\n",
        "            adv_inputs = generate_adv_image(model, inputs, labels, eps=eps, targets=torch.zeros_like(labels)).to(device)\n",
        "        else:\n",
        "            adv_inputs = generate_adv_image(model, inputs, labels, eps=eps, targets=None).to(device)\n",
        "\n",
        "        # Forward batch data through the net\n",
        "        adv_output = model(adv_inputs)\n",
        "\n",
        "        # Compute the error made on this batch and add it to the total error\n",
        "        probs = F.softmax(adv_output, dim=1)\n",
        "        pred = torch.argmax(probs, dim=1)\n",
        "        adv_error = adv_error + (pred != labels).int().sum()\n",
        "\n",
        "    adv_error = adv_error / test_size\n",
        "    return adv_error\n",
        "    \n",
        "print(f'===error rate with different eps===')\n",
        "for eps in epss:\n",
        "    error = eval_on_adv_data(eps)\n",
        "    print('error rate when eps is {:.2f}: {:.2f}%'.format(eps, error * 100))\n",
        "\n",
        "print('\\n')\n",
        "\n",
        "print(f'===error rate with different eps and target as 0===')\n",
        "for eps in epss:\n",
        "    error = eval_on_adv_data(eps, target=0)\n",
        "    print('error rate when eps is {:.2f}: {:.2f}%'.format(eps, error * 100))\n",
        "\n",
        "print('\\n')\n",
        "\n",
        "print(f'===error rate with different targets and eps as 0.2===')\n",
        "for target in targets:\n",
        "    error = eval_on_adv_data(eps=0.2, target=target)\n",
        "    print('error rate when target is {:d}: {:.2f}%'.format(target, error * 100))\n",
        "##############################################################################\n",
        "#                             END OF YOUR CODE                               #\n",
        "##############################################################################"
      ]
    },
    {
      "cell_type": "markdown",
      "metadata": {
        "id": "ND9NujufM0GO"
      },
      "source": [
        "---\n",
        "\n",
        "**Write your observations and analysis in this Markdown cell:**\n",
        "\n",
        "---"
      ]
    }
  ],
  "metadata": {
    "accelerator": "GPU",
    "colab": {
      "collapsed_sections": [],
      "name": "EE5934_Project1.ipynb",
      "provenance": []
    },
    "kernelspec": {
      "display_name": "Python 3",
      "language": "python",
      "name": "python3"
    },
    "language_info": {
      "codemirror_mode": {
        "name": "ipython",
        "version": 3
      },
      "file_extension": ".py",
      "mimetype": "text/x-python",
      "name": "python",
      "nbconvert_exporter": "python",
      "pygments_lexer": "ipython3",
      "version": "3.8.12"
    }
  },
  "nbformat": 4,
  "nbformat_minor": 0
}
