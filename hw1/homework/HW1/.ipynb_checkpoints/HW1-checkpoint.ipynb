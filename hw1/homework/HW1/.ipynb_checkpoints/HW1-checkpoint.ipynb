{
 "cells": [
  {
   "cell_type": "markdown",
   "metadata": {},
   "source": [
    "# HW1: Get to know the data\n",
    "HW1 introduces you the Fashion Mnist dataset with some useful preprocessing and visualization methods, and covers K-Means clustering for this dataset."
   ]
  },
  {
   "cell_type": "code",
   "execution_count": 35,
   "metadata": {},
   "outputs": [
    {
     "name": "stdout",
     "output_type": "stream",
     "text": [
      "The autoreload extension is already loaded. To reload it, use:\n",
      "  %reload_ext autoreload\n"
     ]
    }
   ],
   "source": [
    "import os\n",
    "import sys\n",
    "sys.path.append(\"../../homework\")\n",
    "import matplotlib.pyplot as plt\n",
    "import numpy as np\n",
    "\n",
    "%load_ext autoreload\n",
    "%autoreload 2"
   ]
  },
  {
   "cell_type": "markdown",
   "metadata": {},
   "source": [
    "## Fashion Mnist \n",
    "Read [here](https://github.com/zalandoresearch/fashion-mnist) to learn more about the Fashion Mnist  dataset. "
   ]
  },
  {
   "cell_type": "code",
   "execution_count": 2,
   "metadata": {},
   "outputs": [],
   "source": [
    "# Load the Fashion Mnist  data\n",
    "import mnist_reader\n",
    "trainX, trainy = mnist_reader.load_mnist('../data/', kind='train')\n",
    "testX, testy = mnist_reader.load_mnist('../data/', kind='t10k')\n"
   ]
  },
  {
   "cell_type": "code",
   "execution_count": 3,
   "metadata": {},
   "outputs": [
    {
     "name": "stdout",
     "output_type": "stream",
     "text": [
      "train image data shape: (60000, 784)\n",
      "train label data shape: (60000,)\n",
      "test image data shape: (10000, 784)\n",
      "test label data shape: (10000,)\n"
     ]
    }
   ],
   "source": [
    "# Print some statistics about the data\n",
    "print(\"train image data shape:\", trainX.shape)\n",
    "print(\"train label data shape:\", trainy.shape)\n",
    "print(\"test image data shape:\", testX.shape)\n",
    "print(\"test label data shape:\", testy.shape)"
   ]
  },
  {
   "cell_type": "markdown",
   "metadata": {},
   "source": [
    "## 1. Visualize the flattened data (20 Points)\n",
    "The 28x28 Fashion Mnist images have been flattened as 784 x 1 image vectors.\n",
    "\n",
    "Flattening the data will lead to some loss of information (such as spatial correlation between pixels) but it is nevertheless useful for training some linear classifiers.\n",
    "\n",
    "Write some code below to visualize the training “flattened” data. Please provide a brief analysis about the characteristics of flattened data from visualization."
   ]
  },
  {
   "cell_type": "code",
   "execution_count": 22,
   "metadata": {},
   "outputs": [],
   "source": [
    "######################################################################\n",
    "# TODO:                                                              #\n",
    "# Visualize the data to analyze the characteristics of flattened data#\n",
    "######################################################################\n",
    "# your code\n",
    "######################################################################\n",
    "\n",
    "\n",
    "\n",
    "#                       END OF YOUR CODE                             #\n",
    "######################################################################"
   ]
  },
  {
   "cell_type": "markdown",
   "metadata": {},
   "source": [
    "## 2. Visualize the 2D averaged data  (20 Points)\n",
    "Please write some code to reshape the training flattened data back to 2D 28x28 images and plot every \"average\" images of classes 0-9. Please provide a brief analysis about the difference between the 2D images and flattened data of Fashion Mnist from visualization."
   ]
  },
  {
   "cell_type": "code",
   "execution_count": 23,
   "metadata": {},
   "outputs": [],
   "source": [
    "#####################################################################\n",
    "# TODO:                                                             #\n",
    "# Plot each \"average image\" of classes 0-9                          #\n",
    "#####################################################################\n",
    "# your code\n",
    "\n",
    "\n",
    "\n",
    "#####################################################################\n",
    "#                       END OF YOUR CODE                            #\n",
    "#####################################################################"
   ]
  },
  {
   "cell_type": "markdown",
   "metadata": {},
   "source": [
    "## 3. Conduct PCA analysis for the flattened data (20 Points)\n",
    "Please write some code to conduct the Principle Component Analysis (PCA) analysis for the training flattened data, and plot the <font color=black>**first 100 points of**</font> the first principle component against the second principle component. Note: please plot the components in different colors according to their classes. The coordinate of each point is (first_principle_component, second_principle_component).\n",
    "\n",
    "From the visualization, please give a brief discussion on whether the first principle component and second principle component is sufficient to classify the 10 classes of flattened data?"
   ]
  },
  {
   "cell_type": "code",
   "execution_count": 24,
   "metadata": {
    "scrolled": false
   },
   "outputs": [],
   "source": [
    "#####################################################################\n",
    "# TODO:                                                             #\n",
    "# PCA analysis for the 2D flattened data  \n",
    "# Hint: from sklearn.decomposition import PCA\n",
    "#       use PCA(svd_solver='auto').fit_transform(trainX) \n",
    "#       to compute the PCA of trainX                                #\n",
    "#####################################################################\n",
    "# your code starts here\n",
    "\n",
    "\n",
    "\n",
    "#####################################################################\n",
    "#                       END OF YOUR CODE                            #\n",
    "#####################################################################\n"
   ]
  },
  {
   "cell_type": "markdown",
   "metadata": {},
   "source": [
    "## 4. Implement K-Means clustering to cluster the first and second principle component (PC) of training flattened data (40 Points)\n",
    "\n",
    "Please write some code to implement the K-Means clustering for the <font color=black>**first 100 points of**</font> first and second principle component (PC) of training flattened data obtained from step 3. Please briefly discuss about the clustering results.\n",
    "\n",
    "For each of the 100 nodes, its coordinate is (firstPC, secondPC)."
   ]
  },
  {
   "cell_type": "code",
   "execution_count": 25,
   "metadata": {},
   "outputs": [],
   "source": [
    "k = 10 # set k=10 for 10 classes in Fashion Mnist dataset"
   ]
  },
  {
   "cell_type": "markdown",
   "metadata": {},
   "source": [
    "### 4.1 Initialization of Centroids (5 Points)\n",
    "\n",
    "In this step, please randomly pick *k=10* centroids from the 100 1st-2nd PC pairs as centroids initialization.\n",
    "\n",
    "The method `init_centroids()` should return a list of *k=10* different data points. Example format for 2d data points and *k=10*:\n",
    "\n",
    "`centroids = [ [0, 0 ], [1, 1 ], [ 2, 2 ], ... ]`"
   ]
  },
  {
   "cell_type": "code",
   "execution_count": 27,
   "metadata": {},
   "outputs": [],
   "source": [
    "def init_centroids(X, k):\n",
    "    centroids = None\n",
    "    \n",
    "    ### Your code starts here ###############################################################\n",
    "    \n",
    "\n",
    "    \n",
    "    ### Your code ends here #################################################################\n",
    "    \n",
    "    return centroids\n",
    "\n",
    "\n",
    "#\n",
    "# Example format:\n",
    "#\n",
    "# centroids = [ [0, 0 ], [1, 1 ], [ 2, 2 ], ... ]\n",
    "#\n",
    "X_kmeans = pca_trainX[:100,:2]\n",
    "centroids = init_centroids(X_kmeans, k)"
   ]
  },
  {
   "cell_type": "markdown",
   "metadata": {},
   "source": [
    "### 4.2 Cluster Assignment  (10 Points)\n",
    "\n",
    "In this step, each data point is assigned to its nearest centroid. Hint: you may want to check [`numpy.linalg.norm`](https://numpy.org/doc/stable/reference/generated/numpy.linalg.norm.html) and [`numpy.argmin`](https://numpy.org/doc/stable/reference/generated/numpy.argmin.html) for calculating distances and finding the smallest values.\n",
    "\n",
    "The method `assign_clusters()` should return a dictionary where the keys represent the ids of the *k* cluster ranging from *0* to *k-1*, and each value is a list of indices of the data points belonging to the respective cluster. For example,\n",
    "\n",
    "`\n",
    "clusters = {\n",
    "   0: [57, 32, 0, 99],\n",
    "   1: [5, 46, 72],\n",
    "   2: [92, 15, 26, 97, 30],\n",
    "   ...\n",
    "}\n",
    "`"
   ]
  },
  {
   "cell_type": "code",
   "execution_count": 28,
   "metadata": {},
   "outputs": [],
   "source": [
    "def assign_clusters(X, k, centroids):\n",
    "    # Reset all clusters\n",
    "    clusters = {key: [] for key in range(k)}\n",
    "\n",
    "    for idx, x in enumerate(X):\n",
    "        \n",
    "        ### Your code starts here ###############################################################\n",
    "        \n",
    "\n",
    "        \n",
    "        ### Your code ends here #################################################################\n",
    "        \n",
    "        # Only there so the empty loop does not throw an error\n",
    "        # (you can remove that once you added your code)\n",
    "        pass\n",
    "\n",
    "    return clusters\n",
    "\n",
    "#\n",
    "# Example format\n",
    "#\n",
    "#clusters = {\n",
    "#   0: [2, 4, 6, 8],\n",
    "#   1: [0, 1, 5],\n",
    "#   2: [3, 7, 9]\n",
    "#}\n",
    "clusters = assign_clusters(X_kmeans, k, centroids)"
   ]
  },
  {
   "cell_type": "markdown",
   "metadata": {},
   "source": [
    "### 4.3 Update of Centroids (5 Points)\n",
    "\n",
    "In this step, please update all centroids based on the assgnment of data points. The updated centroids should be the average of its assigned data points.\n",
    "\n",
    "The method `update_centroids()` should return a list of the same format as the method `init_centroids()`; see above."
   ]
  },
  {
   "cell_type": "code",
   "execution_count": 31,
   "metadata": {},
   "outputs": [],
   "source": [
    "def update_centroids(X, clusters, centroids):\n",
    "    \n",
    "    new_centroids = np.zeros_like(centroids)\n",
    "\n",
    "    ### Your code starts here ###############################################################\n",
    "    \n",
    "\n",
    "    \n",
    "    ### Your code ends here #################################################################\n",
    "    return new_centroids\n",
    "\n",
    "\n",
    "#\n",
    "centroids = update_centroids(X_kmeans, clusters, centroids)"
   ]
  },
  {
   "cell_type": "markdown",
   "metadata": {},
   "source": [
    "### 4.4 Implement K-Means clustering using above functions (15 Points)\n",
    "\n",
    "In this step, please combine the above three steps into a single function to perform the K-Means clustering for the <font color=black>**first 100 of**</font> first and second principle component (PC) of training flattened data obtained from step 3. Note: Don't forget to stop once you find all clusters.\n",
    "\n",
    "The method `kmeans` should return a clustering (same format as `assign_clusters()` and `update_centroids`), as well as the list of centroids after convergence (same format as `init_centroids()`)."
   ]
  },
  {
   "cell_type": "code",
   "execution_count": 32,
   "metadata": {},
   "outputs": [],
   "source": [
    "def kmeans(X, k, max_iter=100, verbose=True):\n",
    "    clusters, num_iterations = {}, 0\n",
    "    \n",
    "    centroids = init_centroids(X, k)\n",
    "\n",
    "    for _ in range(max_iter):\n",
    "        # Update the counter (+1 since we start from 0)\n",
    "        num_iterations = num_iterations + 1\n",
    "        \n",
    "        ### Your code starts here ###############################################################\n",
    "        \n",
    "\n",
    "    \n",
    "        ### Your code ends here #################################################################\n",
    "    \n",
    "    # Let's print the number of comparison\n",
    "    if verbose is True:\n",
    "        print('K-Means required {} iterations to converge.'.format(num_iterations))\n",
    "    \n",
    "    return clusters, centroids\n"
   ]
  },
  {
   "cell_type": "markdown",
   "metadata": {},
   "source": [
    "### 4.5 Test your Implementation (5 Points)\n",
    "\n",
    "Run your implementation of K-Means for the <font color=black>**first 100 points of**</font> first and second principle component (PC) of training flattened data obtained from step 3, and visualize the results using the `plot_clusters` method we provide for you.\n",
    "\n",
    "From the visualization, please briefly discuss about the clustering results."
   ]
  },
  {
   "cell_type": "code",
   "execution_count": 34,
   "metadata": {},
   "outputs": [],
   "source": [
    "clusters, centroids = kmeans(X_kmeans, k)\n",
    "\n",
    "mnist_reader.plot_clusters(X_kmeans, clusters, centroids)"
   ]
  },
  {
   "cell_type": "markdown",
   "metadata": {},
   "source": [
    "In your submission, in addition to the completed codes and the resulting images for the visualizations, also provide brief responses to the above questions and a brief analysis of the visualized data. "
   ]
  },
  {
   "cell_type": "markdown",
   "metadata": {},
   "source": [
    "You may refer to [here](http://colah.github.io/posts/2014-10-Visualizing-MNIST/) for more interesting and beautiful visualisations. Of course, the methods employed are more complex."
   ]
  }
 ],
 "metadata": {
  "kernelspec": {
   "display_name": "Python 3",
   "language": "python",
   "name": "python3"
  },
  "language_info": {
   "codemirror_mode": {
    "name": "ipython",
    "version": 3
   },
   "file_extension": ".py",
   "mimetype": "text/x-python",
   "name": "python",
   "nbconvert_exporter": "python",
   "pygments_lexer": "ipython3",
   "version": "3.6.13"
  }
 },
 "nbformat": 4,
 "nbformat_minor": 2
}
